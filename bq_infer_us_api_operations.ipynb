{
 "cells": [
  {
   "cell_type": "code",
   "execution_count": 1,
   "id": "c7c85730-7d7f-4cbe-bf25-675b841262be",
   "metadata": {},
   "outputs": [],
   "source": [
    "import sys\n",
    "import json\n",
    "import io"
   ]
  },
  {
   "cell_type": "code",
   "execution_count": 2,
   "id": "4076cafa-f948-4b2a-93e1-72d31a5ed90a",
   "metadata": {},
   "outputs": [
    {
     "name": "stdout",
     "output_type": "stream",
     "text": [
      "Python 3.9.6\n"
     ]
    }
   ],
   "source": [
    "!{sys.executable} -V"
   ]
  },
  {
   "cell_type": "code",
   "execution_count": 3,
   "id": "99e8b68f-f1fe-4c53-8c44-c2e3d6eea03f",
   "metadata": {},
   "outputs": [
    {
     "data": {
      "text/plain": [
       "True"
      ]
     },
     "execution_count": 3,
     "metadata": {},
     "output_type": "execute_result"
    }
   ],
   "source": [
    "from dotenv import load_dotenv\n",
    "load_dotenv()"
   ]
  },
  {
   "cell_type": "code",
   "execution_count": 4,
   "id": "54b4f5f3-39ba-4b37-9ea9-45a47c021ed7",
   "metadata": {},
   "outputs": [],
   "source": [
    "from google.cloud import bigquery\n",
    "from google.cloud.bigquery import Table\n",
    "\n",
    "from googleapiclient import discovery\n",
    "from oauth2client.client import GoogleCredentials"
   ]
  },
  {
   "cell_type": "code",
   "execution_count": null,
   "id": "9e534d1c-82a4-4cea-add7-553c07f16f6d",
   "metadata": {},
   "outputs": [],
   "source": []
  },
  {
   "cell_type": "code",
   "execution_count": 5,
   "id": "7555f912-9c6b-4b99-aced-5b09d9a3bdb2",
   "metadata": {},
   "outputs": [],
   "source": [
    "project_id = 'bigquery-project-32089'\n",
    "dataset_id = 'customers_dataset'\n",
    "table_id = 'customers'\n",
    "dataset_full_name = f\"{project_id}.{dataset_id}\"\n",
    "table_full_name = f\"{project_id}.{dataset_id}.{table_id}\""
   ]
  },
  {
   "cell_type": "code",
   "execution_count": 6,
   "id": "7d920f4b-2219-4e2f-87d6-94404332c40f",
   "metadata": {},
   "outputs": [],
   "source": [
    "client = bigquery.Client(project=project_id)"
   ]
  },
  {
   "cell_type": "code",
   "execution_count": null,
   "id": "17b2cf7c-8dcf-4b51-bc15-68de35afa990",
   "metadata": {},
   "outputs": [],
   "source": []
  },
  {
   "cell_type": "code",
   "execution_count": 7,
   "id": "50dec38e-c734-47d9-b424-0db499a13b84",
   "metadata": {},
   "outputs": [],
   "source": [
    "def list_datasets():\n",
    "    datasets = list(client.list_datasets())\n",
    "    project = client.project\n",
    "\n",
    "    if datasets:\n",
    "        print(\"Datasets in project {}:\".format(project))\n",
    "        for dataset in datasets:\n",
    "            print(\"\\t{}\".format(dataset.dataset_id))\n",
    "    else:\n",
    "        print(\"{} project does not contain any datasets.\".format(project))"
   ]
  },
  {
   "cell_type": "code",
   "execution_count": 8,
   "id": "f1141136-d4ca-4305-9e62-b8fb10a89586",
   "metadata": {},
   "outputs": [
    {
     "name": "stdout",
     "output_type": "stream",
     "text": [
      "Datasets in project bigquery-project-32089:\n",
      "\tcustomers_dataset\n"
     ]
    }
   ],
   "source": [
    "# List available datasets\n",
    "list_datasets()"
   ]
  },
  {
   "cell_type": "markdown",
   "id": "aeacd132-2a76-4726-9a54-6e4292b50dc2",
   "metadata": {},
   "source": [
    "## 1.) Load customers_1.json to create a table in Python and load the data into it."
   ]
  },
  {
   "cell_type": "code",
   "execution_count": 9,
   "id": "ca3ae06e-9ed1-4c2a-8ffe-383eb4d3fe7b",
   "metadata": {},
   "outputs": [],
   "source": [
    "#  create a table in Python and load the data into it.\n",
    "def create_table(tablefullname):    \n",
    "    table_id = Table.from_string(tablefullname)\n",
    "    table = bigquery.Table(table_id)\n",
    "    \n",
    "    table = client.create_table(table)\n",
    "    \n",
    "    print(\n",
    "        \"Created table {}.{}.{}\".format(table.project, table.dataset_id, table.table_id)\n",
    "    )"
   ]
  },
  {
   "cell_type": "code",
   "execution_count": 10,
   "id": "6200957c-0268-4356-afc6-16a2d7e3cec9",
   "metadata": {},
   "outputs": [
    {
     "name": "stdout",
     "output_type": "stream",
     "text": [
      "Created table bigquery-project-32089.customers_dataset.customers\n"
     ]
    }
   ],
   "source": [
    "create_table(table_full_name)"
   ]
  },
  {
   "cell_type": "code",
   "execution_count": 11,
   "id": "d6718f19-d7cd-46c1-869f-4f12f50c2896",
   "metadata": {},
   "outputs": [],
   "source": [
    "# Load customers_1.json file\n",
    "customers_1_json_file = '.\\data\\customers_1.json'\n",
    "customers_1_json_data = [json.loads(line) for line in open(customers_1_json_file, 'r')]"
   ]
  },
  {
   "cell_type": "markdown",
   "id": "c01f8583-a29b-44c6-9188-14a0895350d9",
   "metadata": {},
   "source": [
    "### This function will infer and update schemas without specifying them manually."
   ]
  },
  {
   "cell_type": "code",
   "execution_count": 12,
   "id": "13eb9979-0025-4962-a33c-064b74ed0306",
   "metadata": {},
   "outputs": [],
   "source": [
    "# This function will infer and update schemas without specifying them manually from given json file.\n",
    "\n",
    "def load_json_with_auto_detect_schema(project_id,dataset_id,table_id,customers_1_json):   \n",
    "    project = client.project\n",
    "    dataset_ref = bigquery.DatasetReference(project, dataset_id)    \n",
    "\n",
    "    # Retrieves the destination table and checks the length of the schema    \n",
    "    table_ref = dataset_ref.table(table_id)\n",
    "    table = client.get_table(table_ref)\n",
    "    print(\"Table {} contains {} columns.\".format(table_id, len(table.schema)))    \n",
    "    \n",
    "    job_config = bigquery.LoadJobConfig(\n",
    "        autodetect=True,\n",
    "        source_format=bigquery.SourceFormat.NEWLINE_DELIMITED_JSON\n",
    "    )     \n",
    "        \n",
    "    job = client.load_table_from_json(customers_1_json, table_ref, location=\"US\", job_config=job_config)\n",
    "    \n",
    "    job.result()  # Waits for table load to complete.\n",
    "    \n",
    "    print(\n",
    "        \"Loaded {} rows into {}:{}.\".format(\n",
    "            job.output_rows, dataset_id, table_ref.table_id\n",
    "        )\n",
    "    )\n",
    "\n",
    "    # Checks the updated length of the schema\n",
    "    table = client.get_table(table)\n",
    "    print(\"Table {} now contains {} columns.\".format(table_id, len(table.schema)))"
   ]
  },
  {
   "cell_type": "code",
   "execution_count": 13,
   "id": "24c573bb-b903-4948-868f-dc19141f1233",
   "metadata": {},
   "outputs": [
    {
     "name": "stdout",
     "output_type": "stream",
     "text": [
      "Table customers contains 0 columns.\n",
      "Loaded 4 rows into customers_dataset:customers.\n",
      "Table customers now contains 20 columns.\n"
     ]
    }
   ],
   "source": [
    "# Update table schema with new fields\n",
    "load_json_with_auto_detect_schema(project_id,dataset_id,table_id,customers_1_json_data)"
   ]
  },
  {
   "cell_type": "markdown",
   "id": "4e8f69c6-e011-4ce6-8fd6-177d54548d3b",
   "metadata": {},
   "source": [
    "### 2.) Load customers_2.json into the table using a load job - update the schema of table without manually specifying the names of the new fields in the customers_2.json"
   ]
  },
  {
   "cell_type": "code",
   "execution_count": 14,
   "id": "53ab1ac3-5e2d-4030-ac51-f32351096ba7",
   "metadata": {},
   "outputs": [],
   "source": [
    "# Load customers_2.json file has additional fields. Table needs to be updated for the schema change.\n",
    "customers_2_json_file = '.\\data\\customers_2.json'\n",
    "customers_2_json_data = [json.loads(line) for line in open(customers_2_json_file, 'r')]"
   ]
  },
  {
   "cell_type": "code",
   "execution_count": 15,
   "id": "27a9402a-d6a3-4333-b724-59bb9055d7a3",
   "metadata": {},
   "outputs": [],
   "source": [
    "# This function will update the schema of table without manually specifying the names of the new fields\n",
    "\n",
    "def update_schema_insert_fields(project_id,dataset_id,table_id,customers_2_json):   \n",
    "    project = client.project\n",
    "    dataset_ref = bigquery.DatasetReference(project, dataset_id)    \n",
    "\n",
    "    # Retrieves the destination table and checks the length of the schema    \n",
    "    table_ref = dataset_ref.table(table_id)\n",
    "    table = client.get_table(table_ref)\n",
    "    print(\"Table {} contains {} columns.\".format(table_id, len(table.schema)))\n",
    "    \n",
    "    \n",
    "    job_config = bigquery.LoadJobConfig(\n",
    "        autodetect=True,\n",
    "        source_format=bigquery.SourceFormat.NEWLINE_DELIMITED_JSON,\n",
    "        schema_update_options=[\n",
    "            bigquery.SchemaUpdateOption.ALLOW_FIELD_ADDITION,\n",
    "            bigquery.SchemaUpdateOption.ALLOW_FIELD_RELAXATION\n",
    "        ],\n",
    "        write_disposition=bigquery.WriteDisposition.WRITE_APPEND\n",
    "    ) \n",
    "        \n",
    "    job = client.load_table_from_json(customers_2_json, table_ref, location=\"US\", job_config=job_config)\n",
    "    \n",
    "    job.result()  # Waits for table load to complete.\n",
    "    print(\n",
    "        \"Loaded {} rows into {}:{}.\".format(\n",
    "            job.output_rows, dataset_id, table_ref.table_id\n",
    "        )\n",
    "    )\n",
    "\n",
    "    # Checks the updated length of the schema\n",
    "    table = client.get_table(table)\n",
    "    print(\"Table {} now contains {} columns.\".format(table_id, len(table.schema)))"
   ]
  },
  {
   "cell_type": "code",
   "execution_count": 16,
   "id": "0d9bda9c-4f0f-42a9-8ff6-02d60912e6da",
   "metadata": {},
   "outputs": [
    {
     "name": "stdout",
     "output_type": "stream",
     "text": [
      "Table customers contains 20 columns.\n",
      "Loaded 4 rows into customers_dataset:customers.\n",
      "Table customers now contains 22 columns.\n"
     ]
    }
   ],
   "source": [
    "# Update table schema with new fields\n",
    "update_schema_insert_fields(project_id,dataset_id,table_id,customers_2_json_data)"
   ]
  },
  {
   "cell_type": "markdown",
   "id": "90dc2c04-7a24-40ab-ba49-91db8930e703",
   "metadata": {},
   "source": [
    "# Implementing Bigquery table with PATCH method"
   ]
  },
  {
   "cell_type": "markdown",
   "id": "f954c942-802d-4416-a82e-4d2cd5be8c26",
   "metadata": {},
   "source": [
    "### This is a REST API , so we need service discovery \n",
    "### https://cloud.google.com/bigquery/docs/reference/rest/v2/tables/patch"
   ]
  },
  {
   "cell_type": "code",
   "execution_count": 17,
   "id": "f2617ea5-b35e-4333-a57c-c73cb0f0d46e",
   "metadata": {},
   "outputs": [],
   "source": [
    "#!{sys.executable} -m pip install google-api-python-client"
   ]
  },
  {
   "cell_type": "code",
   "execution_count": 18,
   "id": "4d8520d4-fe01-43eb-9e14-5a18f73b9ef8",
   "metadata": {},
   "outputs": [],
   "source": [
    "#!{sys.executable} -m pip install --upgrade oauth2client"
   ]
  },
  {
   "cell_type": "code",
   "execution_count": 19,
   "id": "e0c3602b-f5c9-4ad5-a225-3bbf6f68549a",
   "metadata": {},
   "outputs": [],
   "source": [
    "project = client.project\n",
    "dataset_ref = bigquery.DatasetReference(project, dataset_id) \n",
    "table_ref = dataset_ref.table(table_id)\n",
    "table = client.get_table(table_ref)"
   ]
  },
  {
   "cell_type": "code",
   "execution_count": 20,
   "id": "02400405-dd8e-40f5-b83d-cd96a47a96e9",
   "metadata": {},
   "outputs": [],
   "source": [
    "#to get credentials from my laptop\n",
    "credentials = GoogleCredentials.get_application_default()\n",
    "# Construct the service object for interacting with the BigQuery API.\n",
    "bq = discovery.build('bigquery', 'v2', credentials=credentials)"
   ]
  },
  {
   "cell_type": "code",
   "execution_count": 21,
   "id": "35e3b07b-c9d9-4555-9113-97b1bc0c7a7c",
   "metadata": {},
   "outputs": [
    {
     "data": {
      "text/plain": [
       "<oauth2client.service_account._JWTAccessCredentials at 0x2d4a86d6b20>"
      ]
     },
     "execution_count": 21,
     "metadata": {},
     "output_type": "execute_result"
    }
   ],
   "source": [
    "credentials"
   ]
  },
  {
   "cell_type": "code",
   "execution_count": 22,
   "id": "fcad65d4-8b24-4d6c-b348-33bed04fb858",
   "metadata": {},
   "outputs": [
    {
     "data": {
      "text/plain": [
       "<googleapiclient.discovery.Resource at 0x2d4a8695cd0>"
      ]
     },
     "execution_count": 22,
     "metadata": {},
     "output_type": "execute_result"
    }
   ],
   "source": [
    "bq"
   ]
  },
  {
   "cell_type": "markdown",
   "id": "058fafcc-d15b-4a53-8712-52e6514e8c48",
   "metadata": {},
   "source": [
    "### View current table's schema as a JSON , this is needs for the comparison with new schema to be submitted with new Fields and their Types."
   ]
  },
  {
   "cell_type": "code",
   "execution_count": 23,
   "id": "49eb0139-cfd7-4947-8407-b63bf5b48463",
   "metadata": {},
   "outputs": [
    {
     "name": "stdout",
     "output_type": "stream",
     "text": [
      "[\n",
      "  {\n",
      "    \"mode\": \"NULLABLE\",\n",
      "    \"name\": \"favoriteFruit\",\n",
      "    \"type\": \"STRING\"\n",
      "  },\n",
      "  {\n",
      "    \"fields\": [\n",
      "      {\n",
      "        \"mode\": \"NULLABLE\",\n",
      "        \"name\": \"name\",\n",
      "        \"type\": \"STRING\"\n",
      "      },\n",
      "      {\n",
      "        \"mode\": \"NULLABLE\",\n",
      "        \"name\": \"id\",\n",
      "        \"type\": \"INTEGER\"\n",
      "      }\n",
      "    ],\n",
      "    \"mode\": \"REPEATED\",\n",
      "    \"name\": \"friends\",\n",
      "    \"type\": \"RECORD\"\n",
      "  },\n",
      "  {\n",
      "    \"mode\": \"NULLABLE\",\n",
      "    \"name\": \"latitude\",\n",
      "    \"type\": \"FLOAT\"\n",
      "  },\n",
      "  {\n",
      "    \"description\": \"bq-datetime\",\n",
      "    \"mode\": \"NULLABLE\",\n",
      "    \"name\": \"registered\",\n",
      "    \"type\": \"TIMESTAMP\"\n",
      "  },\n",
      "  {\n",
      "    \"mode\": \"NULLABLE\",\n",
      "    \"name\": \"address\",\n",
      "    \"type\": \"STRING\"\n",
      "  },\n",
      "  {\n",
      "    \"mode\": \"NULLABLE\",\n",
      "    \"name\": \"longitude\",\n",
      "    \"type\": \"FLOAT\"\n",
      "  },\n",
      "  {\n",
      "    \"mode\": \"NULLABLE\",\n",
      "    \"name\": \"phone\",\n",
      "    \"type\": \"STRING\"\n",
      "  },\n",
      "  {\n",
      "    \"mode\": \"NULLABLE\",\n",
      "    \"name\": \"greeting\",\n",
      "    \"type\": \"STRING\"\n",
      "  },\n",
      "  {\n",
      "    \"mode\": \"NULLABLE\",\n",
      "    \"name\": \"email\",\n",
      "    \"type\": \"STRING\"\n",
      "  },\n",
      "  {\n",
      "    \"mode\": \"REPEATED\",\n",
      "    \"name\": \"tags\",\n",
      "    \"type\": \"STRING\"\n",
      "  },\n",
      "  {\n",
      "    \"mode\": \"NULLABLE\",\n",
      "    \"name\": \"company\",\n",
      "    \"type\": \"STRING\"\n",
      "  },\n",
      "  {\n",
      "    \"mode\": \"NULLABLE\",\n",
      "    \"name\": \"name\",\n",
      "    \"type\": \"STRING\"\n",
      "  },\n",
      "  {\n",
      "    \"mode\": \"NULLABLE\",\n",
      "    \"name\": \"eyeColor\",\n",
      "    \"type\": \"STRING\"\n",
      "  },\n",
      "  {\n",
      "    \"mode\": \"NULLABLE\",\n",
      "    \"name\": \"gender\",\n",
      "    \"type\": \"STRING\"\n",
      "  },\n",
      "  {\n",
      "    \"mode\": \"NULLABLE\",\n",
      "    \"name\": \"age\",\n",
      "    \"type\": \"INTEGER\"\n",
      "  },\n",
      "  {\n",
      "    \"mode\": \"NULLABLE\",\n",
      "    \"name\": \"picture\",\n",
      "    \"type\": \"STRING\"\n",
      "  },\n",
      "  {\n",
      "    \"mode\": \"NULLABLE\",\n",
      "    \"name\": \"balance\",\n",
      "    \"type\": \"FLOAT\"\n",
      "  },\n",
      "  {\n",
      "    \"mode\": \"NULLABLE\",\n",
      "    \"name\": \"isActive\",\n",
      "    \"type\": \"BOOLEAN\"\n",
      "  },\n",
      "  {\n",
      "    \"mode\": \"NULLABLE\",\n",
      "    \"name\": \"guid\",\n",
      "    \"type\": \"STRING\"\n",
      "  },\n",
      "  {\n",
      "    \"mode\": \"NULLABLE\",\n",
      "    \"name\": \"about\",\n",
      "    \"type\": \"STRING\"\n",
      "  },\n",
      "  {\n",
      "    \"mode\": \"NULLABLE\",\n",
      "    \"name\": \"index\",\n",
      "    \"type\": \"INTEGER\"\n",
      "  },\n",
      "  {\n",
      "    \"mode\": \"NULLABLE\",\n",
      "    \"name\": \"_id\",\n",
      "    \"type\": \"STRING\"\n",
      "  }\n",
      "]\n"
     ]
    }
   ],
   "source": [
    "f = io.StringIO(\"\")\n",
    "client.schema_to_json(table.schema, f)\n",
    "#client.schema_from_json\n",
    "print(f.getvalue())"
   ]
  },
  {
   "cell_type": "code",
   "execution_count": null,
   "id": "3dff2bcf-7bba-44e7-a733-6227a7af021b",
   "metadata": {},
   "outputs": [],
   "source": []
  },
  {
   "cell_type": "code",
   "execution_count": 24,
   "id": "40a39ebb-09d0-4b6a-881e-6e58119a33dd",
   "metadata": {},
   "outputs": [],
   "source": [
    "# Load customers_3.json file that includes another schema change.\n",
    "customers_3_json_file = r'.\\data\\customers_3.json'"
   ]
  },
  {
   "cell_type": "markdown",
   "id": "27a2757d-2df0-48f3-9670-1fddc032b47c",
   "metadata": {},
   "source": [
    "## Prepared the new schema accordingly & viewing with method \"schema_from_json\" for the schema comparison.\n",
    "## This has been done manually."
   ]
  },
  {
   "cell_type": "code",
   "execution_count": 25,
   "id": "1bed1a32-785a-4143-9b6c-e8ccb9a50bb4",
   "metadata": {},
   "outputs": [
    {
     "data": {
      "text/plain": [
       "[SchemaField('_id', 'STRING', 'NULLABLE', None, (), None),\n",
       " SchemaField('index', 'INTEGER', 'NULLABLE', None, (), None),\n",
       " SchemaField('guid', 'STRING', 'NULLABLE', None, (), None),\n",
       " SchemaField('isActive', 'BOOLEAN', 'NULLABLE', None, (), None),\n",
       " SchemaField('balance', 'FLOAT', 'NULLABLE', None, (), None),\n",
       " SchemaField('picture', 'STRING', 'NULLABLE', None, (), None),\n",
       " SchemaField('age', 'INTEGER', 'NULLABLE', None, (), None),\n",
       " SchemaField('eyeColor', 'STRING', 'NULLABLE', None, (), None),\n",
       " SchemaField('name', 'STRING', 'NULLABLE', None, (), None),\n",
       " SchemaField('gender', 'STRING', 'NULLABLE', None, (), None),\n",
       " SchemaField('company', 'STRING', 'NULLABLE', None, (), None),\n",
       " SchemaField('email', 'STRING', 'NULLABLE', None, (), None),\n",
       " SchemaField('phone', 'STRING', 'NULLABLE', None, (), None),\n",
       " SchemaField('address', 'STRING', 'NULLABLE', None, (), None),\n",
       " SchemaField('about', 'STRING', 'NULLABLE', None, (), None),\n",
       " SchemaField('registered', 'TIMESTAMP', 'NULLABLE', None, (), None),\n",
       " SchemaField('latitude', 'FLOAT', 'NULLABLE', None, (), None),\n",
       " SchemaField('longitude', 'FLOAT', 'NULLABLE', None, (), None),\n",
       " SchemaField('tags', 'STRING', 'REPEATED', None, (), None),\n",
       " SchemaField('friends', 'RECORD', 'REPEATED', None, (SchemaField('id', 'INTEGER', 'NULLABLE', None, (), None), SchemaField('name', 'STRING', 'NULLABLE', None, (), None)), None),\n",
       " SchemaField('foes', 'RECORD', 'REPEATED', None, (SchemaField('id', 'INTEGER', 'NULLABLE', None, (), None), SchemaField('name', 'STRING', 'NULLABLE', None, (), None)), None),\n",
       " SchemaField('greeting', 'STRING', 'NULLABLE', None, (), None),\n",
       " SchemaField('favoriteFruit', 'STRING', 'NULLABLE', None, (), None)]"
      ]
     },
     "execution_count": 25,
     "metadata": {},
     "output_type": "execute_result"
    }
   ],
   "source": [
    "customer_3_schema_file_path = '.\\customers_3_schema.json'\n",
    "schema1 = client.schema_from_json(customer_3_schema_file_path)\n",
    "schema1"
   ]
  },
  {
   "cell_type": "markdown",
   "id": "0c4df862-ea8a-4c2f-84da-2c02bc3968df",
   "metadata": {},
   "source": [
    "## But, we need flatten schema without \"SchemaField\""
   ]
  },
  {
   "cell_type": "code",
   "execution_count": 26,
   "id": "9d961a09-7296-447c-99ca-f0fdcfb6360c",
   "metadata": {},
   "outputs": [],
   "source": [
    "with open(customer_3_schema_file_path) as f:\n",
    "    customer_3_schema = json.load(f)\n",
    "f.close()"
   ]
  },
  {
   "cell_type": "code",
   "execution_count": 27,
   "id": "317e0316-d115-4cca-bd9d-f93db30941e2",
   "metadata": {},
   "outputs": [
    {
     "data": {
      "text/plain": [
       "[{'name': '_id', 'type': 'STRING', 'mode': 'NULLABLE'},\n",
       " {'name': 'index', 'type': 'INTEGER', 'mode': 'NULLABLE'},\n",
       " {'name': 'guid', 'type': 'STRING', 'mode': 'NULLABLE'},\n",
       " {'name': 'isActive', 'type': 'BOOLEAN', 'mode': 'NULLABLE'},\n",
       " {'name': 'balance', 'type': 'FLOAT', 'mode': 'NULLABLE'},\n",
       " {'name': 'picture', 'type': 'STRING', 'mode': 'NULLABLE'},\n",
       " {'name': 'age', 'type': 'INTEGER', 'mode': 'NULLABLE'},\n",
       " {'name': 'eyeColor', 'type': 'STRING', 'mode': 'NULLABLE'},\n",
       " {'name': 'name', 'type': 'STRING', 'mode': 'NULLABLE'},\n",
       " {'name': 'gender', 'type': 'STRING', 'mode': 'NULLABLE'},\n",
       " {'name': 'company', 'type': 'STRING', 'mode': 'NULLABLE'},\n",
       " {'name': 'email', 'type': 'STRING', 'mode': 'NULLABLE'},\n",
       " {'name': 'phone', 'type': 'STRING', 'mode': 'NULLABLE'},\n",
       " {'name': 'address', 'type': 'STRING', 'mode': 'NULLABLE'},\n",
       " {'name': 'about', 'type': 'STRING', 'mode': 'NULLABLE'},\n",
       " {'name': 'registered', 'type': 'TIMESTAMP', 'mode': 'NULLABLE'},\n",
       " {'name': 'latitude', 'type': 'FLOAT', 'mode': 'NULLABLE'},\n",
       " {'name': 'longitude', 'type': 'FLOAT', 'mode': 'NULLABLE'},\n",
       " {'name': 'tags', 'type': 'STRING', 'mode': 'REPEATED'},\n",
       " {'name': 'friends',\n",
       "  'type': 'RECORD',\n",
       "  'mode': 'REPEATED',\n",
       "  'fields': [{'name': 'id', 'type': 'INTEGER', 'mode': 'NULLABLE'},\n",
       "   {'name': 'name', 'type': 'STRING', 'mode': 'NULLABLE'}]},\n",
       " {'name': 'foes',\n",
       "  'type': 'RECORD',\n",
       "  'mode': 'REPEATED',\n",
       "  'fields': [{'name': 'id', 'type': 'INTEGER', 'mode': 'NULLABLE'},\n",
       "   {'name': 'name', 'type': 'STRING', 'mode': 'NULLABLE'}]},\n",
       " {'name': 'greeting', 'type': 'STRING', 'mode': 'NULLABLE'},\n",
       " {'name': 'favoriteFruit', 'type': 'STRING', 'mode': 'NULLABLE'}]"
      ]
     },
     "execution_count": 27,
     "metadata": {},
     "output_type": "execute_result"
    }
   ],
   "source": [
    "customer_3_schema"
   ]
  },
  {
   "cell_type": "markdown",
   "id": "de12a9ff-7778-499e-aa44-0c00832c1058",
   "metadata": {},
   "source": [
    "## Updating Bigquery table with PATCH method\n",
    "##### https://cloud.google.com/bigquery/docs/reference/rest/v2/tables/patch"
   ]
  },
  {
   "cell_type": "code",
   "execution_count": 28,
   "id": "b855dfe0-58fc-4b6e-ae68-512f64c7f998",
   "metadata": {},
   "outputs": [
    {
     "name": "stdout",
     "output_type": "stream",
     "text": [
      "BQ Table Patched with customer_3_schema_fields ..!!\n"
     ]
    }
   ],
   "source": [
    "tables = bq.tables()\n",
    "table_reference = {\"projectId\":project_id, \"tableId\":table_id, \"datasetId\": dataset_id} \n",
    "table_reference = {\"tableReference\": table_reference,\"schema\": { \"fields\": customer_3_schema}} \n",
    "table_reference.update(table_reference)\n",
    "\n",
    "tableStatusObject =tables.patch(projectId=project_id,datasetId=dataset_id,tableId=table_id, \n",
    "body=table_reference,autodetect_schema=True).execute()\n",
    "print(\"BQ Table Patched with customer_3_schema_fields ..!!\")"
   ]
  },
  {
   "cell_type": "code",
   "execution_count": null,
   "id": "5962e191-d305-4daf-8b68-fee4f2df4ec1",
   "metadata": {},
   "outputs": [],
   "source": []
  }
 ],
 "metadata": {
  "kernelspec": {
   "display_name": "Python 3",
   "language": "python",
   "name": "python3"
  },
  "language_info": {
   "codemirror_mode": {
    "name": "ipython",
    "version": 3
   },
   "file_extension": ".py",
   "mimetype": "text/x-python",
   "name": "python",
   "nbconvert_exporter": "python",
   "pygments_lexer": "ipython3",
   "version": "3.9.6"
  }
 },
 "nbformat": 4,
 "nbformat_minor": 5
}
