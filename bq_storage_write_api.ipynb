{
 "cells": [
  {
   "cell_type": "markdown",
   "id": "f385ec3b-e18e-40ef-a007-0353200c689f",
   "metadata": {},
   "source": []
  },
  {
   "cell_type": "markdown",
   "id": "4089e9f7-b1bd-40ba-a9fc-e3159964d041",
   "metadata": {},
   "source": [
    "# Unified batch and streaming ingestion API\n",
    "### Storage Write API - https://cloud.google.com/bigquery/docs/write-api\n",
    "### BigQuery Storage V1 -https://cloud.google.com/bigquery/docs/reference/storage/rpc/google.cloud.bigquery.storage.v1\n",
    "##### \"Pending\" mode chosen from the available three modes - ( Commited , Pending , Buffered )"
   ]
  },
  {
   "cell_type": "code",
   "execution_count": null,
   "id": "f813c255-1425-4244-8e86-b763ed328209",
   "metadata": {},
   "outputs": [],
   "source": []
  },
  {
   "cell_type": "markdown",
   "id": "1f65879c-57c3-4882-9e1e-d2564ba852f8",
   "metadata": {},
   "source": [
    "### BigQuery Storage API V1 Methods - https://cloud.google.com/bigquery/docs/reference/storage/rpc"
   ]
  },
  {
   "cell_type": "code",
   "execution_count": 1,
   "id": "0f5c9f8b-e01c-4309-ad1c-afb6cfd04be8",
   "metadata": {},
   "outputs": [],
   "source": [
    "import sys\n",
    "#!{sys.executable} -m pip install --upgrade google-cloud-bigquery-storage"
   ]
  },
  {
   "cell_type": "code",
   "execution_count": 2,
   "id": "60d4d595-4cf9-41f5-9189-030be7482da2",
   "metadata": {},
   "outputs": [
    {
     "data": {
      "text/plain": [
       "True"
      ]
     },
     "execution_count": 2,
     "metadata": {},
     "output_type": "execute_result"
    }
   ],
   "source": [
    "from dotenv import load_dotenv\n",
    "load_dotenv()"
   ]
  },
  {
   "cell_type": "code",
   "execution_count": 3,
   "id": "b5eb7c4c-f5bf-4a3c-a9a0-368a090326cc",
   "metadata": {},
   "outputs": [
    {
     "name": "stdout",
     "output_type": "stream",
     "text": [
      "Name: google-cloud-bigquery-storage\n",
      "Version: 2.11.0\n",
      "Summary: BigQuery Storage API API client library\n",
      "Home-page: https://github.com/googleapis/python-bigquery-storage\n",
      "Author: Google LLC\n",
      "Author-email: googleapis-packages@google.com\n",
      "License: Apache 2.0\n",
      "Location: d:\\python\\python39\\lib\\site-packages\n",
      "Requires: google-api-core, libcst, proto-plus\n",
      "Required-by: \n"
     ]
    },
    {
     "name": "stderr",
     "output_type": "stream",
     "text": [
      "WARNING: Ignoring invalid distribution -ip (d:\\python\\python39\\lib\\site-packages)\n"
     ]
    }
   ],
   "source": [
    "!{sys.executable} -m pip show google-cloud-bigquery-storage"
   ]
  },
  {
   "cell_type": "code",
   "execution_count": 4,
   "id": "181f1741-3aa3-464f-990e-b28ab079b3f5",
   "metadata": {},
   "outputs": [],
   "source": [
    "from google.cloud import bigquery\n",
    "from google.cloud.bigquery import Table\n",
    "from googleapiclient import discovery\n",
    "from oauth2client.client import GoogleCredentials\n",
    "\n",
    "from google.cloud import bigquery_storage_v1\n",
    "from google.cloud.bigquery_storage_v1 import BigQueryWriteClient\n",
    "from google.cloud.bigquery_storage_v1 import types\n",
    "from google.cloud.bigquery_storage_v1 import writer\n",
    "from google.protobuf import descriptor_pb2"
   ]
  },
  {
   "cell_type": "markdown",
   "id": "04749019-15a9-4e59-8592-8cdaadbaee67",
   "metadata": {},
   "source": [
    "### Make Proto2 stubs with proto2 messages , since Storage API V1 only support protobuf V2"
   ]
  },
  {
   "attachments": {
    "463134ee-8162-4160-b0ed-0ba7f5b782ac.png": {
     "image/png": "[encoded data removed]"
    }
   },
   "cell_type": "markdown",
   "id": "c89c3bdb-8742-4fab-bb3c-902f3d991616",
   "metadata": {},
   "source": [
    "![image.png](attachment:463134ee-8162-4160-b0ed-0ba7f5b782ac.png)"
   ]
  },
  {
   "cell_type": "code",
   "execution_count": 5,
   "id": "f5932bcd-0422-4e9f-95be-3ef00e5a5b8c",
   "metadata": {},
   "outputs": [],
   "source": [
    "project_id = 'bigquery-project-32089'\n",
    "dataset_id = 'customers_dataset'\n",
    "table_id = 'customer_records'\n",
    "dataset_full_name = f\"{project_id}.{dataset_id}\"\n",
    "table_full_name = f\"{project_id}.{dataset_id}.{table_id}\""
   ]
  },
  {
   "cell_type": "code",
   "execution_count": 6,
   "id": "a65243f4-456f-4605-bbc2-67c21df082d3",
   "metadata": {},
   "outputs": [],
   "source": [
    "import json\n",
    "from collections import namedtuple\n",
    "\n",
    "import customers_1_pb2\n",
    "import customers_2_pb2\n",
    "import customers_3_pb2"
   ]
  },
  {
   "cell_type": "code",
   "execution_count": 7,
   "id": "a6afb8b6-bee8-4ba9-bcb9-e9f8f0369147",
   "metadata": {},
   "outputs": [],
   "source": [
    "def customerRecordsDecoder(customerDict):\n",
    "    return namedtuple('X', customerDict.keys(), rename=True)(*customerDict.values())\n",
    "\n",
    "def create_row_data(customer):\n",
    "    row = customers_1_pb2.Customers_1_Message()    \n",
    "    row._id = customer._0    \n",
    "    row.index = customer.index\n",
    "    row.guid = customer.guid\n",
    "    row.isActive = customer.isActive\n",
    "    row.age = customer.age\n",
    "    row.eyeColor = customer.eyeColor\n",
    "    row.name = customer.name\n",
    "    row.gender = customer.gender\n",
    "    row.company = customer.company\n",
    "    row.email = customer.email\n",
    "    row.phone = customer.phone\n",
    "    row.address = customer.address\n",
    "    row.about = customer.about\n",
    "    row.registered = customer.registered\n",
    "    row.latitude = customer.latitude\n",
    "    row.longitude = customer.longitude\n",
    "    for i in customer.tags:\n",
    "        row.tags.append(i)\n",
    "        \n",
    "    fri = row.Friends()\n",
    "    for friend in customer.friends:\n",
    "        fri.id = friend.id\n",
    "        fri.name = friend.name\n",
    "        row.friends.append(fri)        \n",
    "    \n",
    "    row.greeting = customer.greeting\n",
    "    row.favoriteFruit = customer.favoriteFruit\n",
    "    return row.SerializeToString()\n",
    "\n",
    "\n",
    "def append_rows_pending(project_id: str, dataset_id: str, table_id: str):\n",
    "    \n",
    "    linesx = open(r'.\\data\\customers_1.json').read().splitlines()    \n",
    "\n",
    "    \"\"\"Create a write stream, write data, and commit the stream.\"\"\"\n",
    "    write_client = bigquery_storage_v1.BigQueryWriteClient()\n",
    "    \n",
    "    parent = write_client.table_path(project_id, dataset_id, table_id)\n",
    "    write_stream = types.WriteStream()\n",
    "\n",
    "    # When creating the stream, choose the type. Use the PENDING type to wait\n",
    "    # until the stream is committed before it is visible. See:\n",
    "    \n",
    "    write_stream.type_ = types.WriteStream.Type.PENDING\n",
    "    write_stream = write_client.create_write_stream(\n",
    "        parent=parent, write_stream=write_stream\n",
    "    )\n",
    "    stream_name = write_stream.name\n",
    "\n",
    "    # Create a template with fields needed for the first request.\n",
    "    request_template = types.AppendRowsRequest()\n",
    "\n",
    "    # The initial request must contain the stream name.\n",
    "    request_template.write_stream = stream_name\n",
    "\n",
    "    # So that BigQuery knows how to parse the serialized_rows, generate a\n",
    "    # protocol buffer representation of your message descriptor.\n",
    "    proto_schema = types.ProtoSchema()\n",
    "    proto_descriptor = descriptor_pb2.DescriptorProto()\n",
    "    ##customer_record_pb2.CustomerRecord.DESCRIPTOR.CopyToProto(proto_descriptor)\n",
    "    customers_1_pb2.Customers_1_Message.DESCRIPTOR.CopyToProto(proto_descriptor)\n",
    "    proto_schema.proto_descriptor = proto_descriptor\n",
    "    proto_data = types.AppendRowsRequest.ProtoData()\n",
    "    proto_data.writer_schema = proto_schema\n",
    "    request_template.proto_rows = proto_data\n",
    "\n",
    "    # Some stream types support an unbounded number of requests. Construct an\n",
    "    # AppendRowsStream to send an arbitrary number of requests to a stream.\n",
    "    append_rows_stream = writer.AppendRowsStream(write_client, request_template)\n",
    "\n",
    "    # Create a batch of row data by appending proto2 serialized bytes to the\n",
    "    # serialized_rows repeated field.\n",
    "    proto_rows = types.ProtoRows()    \n",
    "   \n",
    "    count = 0\n",
    "    #request = types.AppendRowsRequest()\n",
    "    # Strips the newline character\n",
    "    for line in linesx:        \n",
    "        ### request.offset = count\n",
    "        count += 1        \n",
    "        # Parse JSON into an object with attributes corresponding to dict keys.\n",
    "        customer = json.loads(line.strip(), object_hook=customerRecordsDecoder)    \n",
    "        proto_rows.serialized_rows.append(create_row_data(customer))\n",
    "        ## proto_rows.serialized_rows.append(create_row_data(2, \"Bob\"))\n",
    "        \n",
    "    # Set an offset to allow resuming this stream if the connection breaks.\n",
    "    # Keep track of which requests the server has acknowledged and resume the\n",
    "    # stream at the first non-acknowledged message. If the server has already\n",
    "    # processed a message with that offset, it will return an ALREADY_EXISTS\n",
    "    # error, which can be safely ignored.\n",
    "    #\n",
    "    # The first request must always have an offset of 0.\n",
    "    request = types.AppendRowsRequest()\n",
    "    request.offset = 0\n",
    "    proto_data = types.AppendRowsRequest.ProtoData()\n",
    "    proto_data.rows = proto_rows\n",
    "    request.proto_rows = proto_data\n",
    "    response_future_1 = append_rows_stream.send(request)\n",
    "    \n",
    "    # Send another batch.\n",
    "    ## proto_rows = types.ProtoRows()\n",
    "    ## proto_rows.serialized_rows.append(create_row_data(3, \"Charles\"))\n",
    "\n",
    "    # Since this is the second request, you only need to include the row data.\n",
    "    # The name of the stream and protocol buffers DESCRIPTOR is only needed in\n",
    "    # the first request.\n",
    "    ## request = types.AppendRowsRequest()\n",
    "    ## proto_data = types.AppendRowsRequest.ProtoData()\n",
    "    ## proto_data.rows = proto_rows\n",
    "    ## request.proto_rows = proto_data\n",
    "\n",
    "    # Offset must equal the number of rows that were previously sent.\n",
    "    ## request.offset = 2\n",
    "    ## response_future_2 = append_rows_stream.send(request)\n",
    "\n",
    "    print(response_future_1.result())\n",
    "    ## print(response_future_2.result())\n",
    "\n",
    "    # Shutdown background threads and close the streaming connection.\n",
    "    append_rows_stream.close()\n",
    "\n",
    "    # A PENDING type stream must be \"finalized\" before being committed. No new\n",
    "    # records can be written to the stream after this method has been called.\n",
    "    write_client.finalize_write_stream(name=write_stream.name)\n",
    "\n",
    "    # Commit the stream you created earlier.\n",
    "    batch_commit_write_streams_request = types.BatchCommitWriteStreamsRequest()\n",
    "    batch_commit_write_streams_request.parent = parent\n",
    "    batch_commit_write_streams_request.write_streams = [write_stream.name]\n",
    "    write_client.batch_commit_write_streams(batch_commit_write_streams_request)\n",
    "\n",
    "    print(f\"Writes to stream: '{write_stream.name}' have been committed.\")\n"
   ]
  },
  {
   "cell_type": "markdown",
   "id": "9fb2bea1-3014-4d0f-b543-ce6208059ab1",
   "metadata": {},
   "source": [
    "## Append rows pending"
   ]
  },
  {
   "cell_type": "code",
   "execution_count": 8,
   "id": "6584e4a9-354e-4f48-9621-b9a7263e38a6",
   "metadata": {},
   "outputs": [
    {
     "name": "stdout",
     "output_type": "stream",
     "text": [
      "append_result {\n",
      "  offset {\n",
      "  }\n",
      "}\n",
      "\n",
      "Writes to stream: 'projects/bigquery-project-32089/datasets/customers_dataset/tables/customer_records/streams/Cic3NDFmNjY4Mi0wMDAwLTIzM2ItOWVjZi0wMDFhMTE0MzhhZjg6czI' have been committed.\n"
     ]
    }
   ],
   "source": [
    "append_rows_pending(project_id, dataset_id, table_id)"
   ]
  }
 ],
 "metadata": {
  "kernelspec": {
   "display_name": "Python 3",
   "language": "python",
   "name": "python3"
  },
  "language_info": {
   "codemirror_mode": {
    "name": "ipython",
    "version": 3
   },
   "file_extension": ".py",
   "mimetype": "text/x-python",
   "name": "python",
   "nbconvert_exporter": "python",
   "pygments_lexer": "ipython3",
   "version": "3.9.6"
  }
 },
 "nbformat": 4,
 "nbformat_minor": 5
}
